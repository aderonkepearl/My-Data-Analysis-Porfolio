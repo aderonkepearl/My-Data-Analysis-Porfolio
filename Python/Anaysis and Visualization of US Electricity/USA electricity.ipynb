{
 "cells": [
  {
   "cell_type": "markdown",
   "id": "29054e26",
   "metadata": {},
   "source": [
    "## Import library"
   ]
  },
  {
   "cell_type": "code",
   "execution_count": 55,
   "id": "cba65cfe",
   "metadata": {},
   "outputs": [],
   "source": [
    "import numpy as np\n",
    "import matplotlib.pyplot as plt\n",
    "import csv"
   ]
  },
  {
   "cell_type": "markdown",
   "id": "27dc83b7",
   "metadata": {},
   "source": [
    "## Import the Dataset"
   ]
  },
  {
   "cell_type": "code",
   "execution_count": 14,
   "id": "0604e388",
   "metadata": {},
   "outputs": [],
   "source": [
    "data = []\n",
    "\n",
    "with open(\"./raw_data\", \"r\") as csvfile:\n",
    "    file_reader = csv.reader(csvfile)\n",
    "    \n",
    "    for row in file_reader:\n",
    "        data.append(row)\n",
    "    \n",
    "# change data into numpy array\n",
    "data = np.array(data)"
   ]
  },
  {
   "cell_type": "code",
   "execution_count": 15,
   "id": "8c99d297",
   "metadata": {},
   "outputs": [
    {
     "data": {
      "text/plain": [
       "array([['MSN', 'YYYYMM', 'Value', 'Column_Order', 'Description', 'Unit'],\n",
       "       ['CLETPUS', '194913', '135451.32', '1',\n",
       "        'Electricity Net Generation From Coal, All Sectors',\n",
       "        'Million Kilowatthours'],\n",
       "       ['CLETPUS', '195013', '154519.994', '1',\n",
       "        'Electricity Net Generation From Coal, All Sectors',\n",
       "        'Million Kilowatthours'],\n",
       "       ...,\n",
       "       ['ELETPUS', '202209', '350919.559', '13',\n",
       "        'Electricity Net Generation Total (including from sources not shown), All Sectors',\n",
       "        'Million Kilowatthours'],\n",
       "       ['ELETPUS', '202210', '314048.288', '13',\n",
       "        'Electricity Net Generation Total (including from sources not shown), All Sectors',\n",
       "        'Million Kilowatthours'],\n",
       "       ['ELETPUS', '202211', '323198.745', '13',\n",
       "        'Electricity Net Generation Total (including from sources not shown), All Sectors',\n",
       "        'Million Kilowatthours']], dtype='<U80')"
      ]
     },
     "execution_count": 15,
     "metadata": {},
     "output_type": "execute_result"
    }
   ],
   "source": [
    "data"
   ]
  },
  {
   "cell_type": "code",
   "execution_count": 16,
   "id": "532ace1b",
   "metadata": {},
   "outputs": [
    {
     "data": {
      "text/plain": [
       "(8737, 6)"
      ]
     },
     "execution_count": 16,
     "metadata": {},
     "output_type": "execute_result"
    }
   ],
   "source": [
    "data.shape"
   ]
  },
  {
   "cell_type": "markdown",
   "id": "10dfdcee",
   "metadata": {},
   "source": [
    "## Saving file"
   ]
  },
  {
   "cell_type": "code",
   "execution_count": 40,
   "id": "3a9fabb3",
   "metadata": {},
   "outputs": [],
   "source": [
    "np.savetxt(\"energy.csv\", data, fmt=\"%s\", delimiter=\",\")"
   ]
  },
  {
   "cell_type": "markdown",
   "id": "f64b4ae9",
   "metadata": {},
   "source": [
    "## Describe data"
   ]
  },
  {
   "cell_type": "code",
   "execution_count": 17,
   "id": "04eb3248",
   "metadata": {},
   "outputs": [
    {
     "data": {
      "text/plain": [
       "array([['MSN', 'YYYYMM', 'Value', 'Column_Order', 'Description', 'Unit'],\n",
       "       ['CLETPUS', '194913', '135451.32', '1',\n",
       "        'Electricity Net Generation From Coal, All Sectors',\n",
       "        'Million Kilowatthours'],\n",
       "       ['CLETPUS', '195013', '154519.994', '1',\n",
       "        'Electricity Net Generation From Coal, All Sectors',\n",
       "        'Million Kilowatthours'],\n",
       "       ...,\n",
       "       ['ELETPUS', '202209', '350919.559', '13',\n",
       "        'Electricity Net Generation Total (including from sources not shown), All Sectors',\n",
       "        'Million Kilowatthours'],\n",
       "       ['ELETPUS', '202210', '314048.288', '13',\n",
       "        'Electricity Net Generation Total (including from sources not shown), All Sectors',\n",
       "        'Million Kilowatthours'],\n",
       "       ['ELETPUS', '202211', '323198.745', '13',\n",
       "        'Electricity Net Generation Total (including from sources not shown), All Sectors',\n",
       "        'Million Kilowatthours']], dtype='<U80')"
      ]
     },
     "execution_count": 17,
     "metadata": {},
     "output_type": "execute_result"
    }
   ],
   "source": [
    "data"
   ]
  },
  {
   "cell_type": "code",
   "execution_count": 18,
   "id": "1720ba57",
   "metadata": {},
   "outputs": [],
   "source": [
    "header = data[0,:]"
   ]
  },
  {
   "cell_type": "code",
   "execution_count": 19,
   "id": "838160e3",
   "metadata": {},
   "outputs": [
    {
     "data": {
      "text/plain": [
       "array(['MSN', 'YYYYMM', 'Value', 'Column_Order', 'Description', 'Unit'],\n",
       "      dtype='<U80')"
      ]
     },
     "execution_count": 19,
     "metadata": {},
     "output_type": "execute_result"
    }
   ],
   "source": [
    "header"
   ]
  },
  {
   "cell_type": "code",
   "execution_count": 20,
   "id": "210a1a41",
   "metadata": {},
   "outputs": [],
   "source": [
    "values = data[1:,:]"
   ]
  },
  {
   "cell_type": "code",
   "execution_count": 21,
   "id": "9bdfa453",
   "metadata": {},
   "outputs": [
    {
     "name": "stdout",
     "output_type": "stream",
     "text": [
      "Header:\n",
      " ['MSN' 'YYYYMM' 'Value' 'Column_Order' 'Description' 'Unit'] \n",
      "\n",
      " Values\n",
      " [['CLETPUS' '194913' '135451.32' '1'\n",
      "  'Electricity Net Generation From Coal, All Sectors'\n",
      "  'Million Kilowatthours']\n",
      " ['CLETPUS' '195013' '154519.994' '1'\n",
      "  'Electricity Net Generation From Coal, All Sectors'\n",
      "  'Million Kilowatthours']\n",
      " ['CLETPUS' '195113' '185203.657' '1'\n",
      "  'Electricity Net Generation From Coal, All Sectors'\n",
      "  'Million Kilowatthours']\n",
      " ...\n",
      " ['ELETPUS' '202209' '350919.559' '13'\n",
      "  'Electricity Net Generation Total (including from sources not shown), All Sectors'\n",
      "  'Million Kilowatthours']\n",
      " ['ELETPUS' '202210' '314048.288' '13'\n",
      "  'Electricity Net Generation Total (including from sources not shown), All Sectors'\n",
      "  'Million Kilowatthours']\n",
      " ['ELETPUS' '202211' '323198.745' '13'\n",
      "  'Electricity Net Generation Total (including from sources not shown), All Sectors'\n",
      "  'Million Kilowatthours']]\n"
     ]
    }
   ],
   "source": [
    "print(\"Header:\\n\",header,\"\\n\\n Values\\n\",values)"
   ]
  },
  {
   "cell_type": "code",
   "execution_count": null,
   "id": "1a571a98",
   "metadata": {},
   "outputs": [],
   "source": []
  },
  {
   "cell_type": "markdown",
   "id": "212ea2b5",
   "metadata": {},
   "source": [
    "## Sources of Energy in US"
   ]
  },
  {
   "cell_type": "code",
   "execution_count": 18,
   "id": "5db05b74",
   "metadata": {},
   "outputs": [
    {
     "data": {
      "text/plain": [
       "8736"
      ]
     },
     "execution_count": 18,
     "metadata": {},
     "output_type": "execute_result"
    }
   ],
   "source": [
    "len(values[:,4])"
   ]
  },
  {
   "cell_type": "code",
   "execution_count": 19,
   "id": "678a41d7",
   "metadata": {},
   "outputs": [
    {
     "data": {
      "text/plain": [
       "array(['Electricity Net Generation From Coal, All Sectors',\n",
       "       'Electricity Net Generation From Conventional Hydroelectric Power, All Sectors',\n",
       "       'Electricity Net Generation From Geothermal, All Sectors',\n",
       "       'Electricity Net Generation From Hydroelectric Pumped Storage, All Sectors',\n",
       "       'Electricity Net Generation From Natural Gas, All Sectors',\n",
       "       'Electricity Net Generation From Nuclear Electric Power, All Sectors',\n",
       "       'Electricity Net Generation From Other Gases, All Sectors',\n",
       "       'Electricity Net Generation From Petroleum, All Sectors',\n",
       "       'Electricity Net Generation From Solar, All Sectors',\n",
       "       'Electricity Net Generation From Waste, All Sectors',\n",
       "       'Electricity Net Generation From Wind, All Sectors',\n",
       "       'Electricity Net Generation From Wood, All Sectors',\n",
       "       'Electricity Net Generation Total (including from sources not shown), All Sectors'],\n",
       "      dtype='<U80')"
      ]
     },
     "execution_count": 19,
     "metadata": {},
     "output_type": "execute_result"
    }
   ],
   "source": [
    "np.unique(values[:,4])"
   ]
  },
  {
   "cell_type": "code",
   "execution_count": 21,
   "id": "90a9f10c",
   "metadata": {},
   "outputs": [
    {
     "name": "stdout",
     "output_type": "stream",
     "text": [
      "US Generate Electricity from 13 sources\n"
     ]
    }
   ],
   "source": [
    "num_of_source = len(np.unique(values[:,4]))\n",
    "\n",
    "print(\"US Generate Electricity from {} sources\". format(num_of_source))"
   ]
  },
  {
   "cell_type": "markdown",
   "id": "d94792a7",
   "metadata": {},
   "source": [
    "## Extract the wind energy data"
   ]
  },
  {
   "cell_type": "code",
   "execution_count": 24,
   "id": "99c815ac",
   "metadata": {},
   "outputs": [
    {
     "data": {
      "text/plain": [
       "array([False, False, False, ..., False, False, False])"
      ]
     },
     "execution_count": 24,
     "metadata": {},
     "output_type": "execute_result"
    }
   ],
   "source": [
    "values[:,4] == 'Electricity Net Generation From Wind, All Sectors'"
   ]
  },
  {
   "cell_type": "code",
   "execution_count": 25,
   "id": "a8a6c8c7",
   "metadata": {},
   "outputs": [],
   "source": [
    "wind_cond = values[:,4] == 'Electricity Net Generation From Wind, All Sectors'"
   ]
  },
  {
   "cell_type": "code",
   "execution_count": 26,
   "id": "ae998e0f",
   "metadata": {},
   "outputs": [],
   "source": [
    "wind_data = values[wind_cond]"
   ]
  },
  {
   "cell_type": "code",
   "execution_count": 27,
   "id": "7fb05910",
   "metadata": {},
   "outputs": [
    {
     "data": {
      "text/plain": [
       "(672, 6)"
      ]
     },
     "execution_count": 27,
     "metadata": {},
     "output_type": "execute_result"
    }
   ],
   "source": [
    "wind_data.shape"
   ]
  },
  {
   "cell_type": "markdown",
   "id": "d7557046",
   "metadata": {},
   "source": [
    "## Save into file"
   ]
  },
  {
   "cell_type": "code",
   "execution_count": 37,
   "id": "e2ce877f",
   "metadata": {},
   "outputs": [],
   "source": [
    "np.savetxt(\"wind.csv\",wind_data,fmt=\"%s\",delimiter=\",\")"
   ]
  },
  {
   "cell_type": "markdown",
   "id": "37061ba9",
   "metadata": {},
   "source": [
    "## Extract the coal energy data"
   ]
  },
  {
   "cell_type": "code",
   "execution_count": 7,
   "id": "de55f0bb",
   "metadata": {},
   "outputs": [
    {
     "data": {
      "text/plain": [
       "array([ True,  True,  True, ..., False, False, False])"
      ]
     },
     "execution_count": 7,
     "metadata": {},
     "output_type": "execute_result"
    }
   ],
   "source": [
    "values[:,4] == 'Electricity Net Generation From Coal, All Sectors'"
   ]
  },
  {
   "cell_type": "code",
   "execution_count": 8,
   "id": "1f186af9",
   "metadata": {},
   "outputs": [],
   "source": [
    "coal_cond = values[:,4] == 'Electricity Net Generation From Coal, All Sectors'"
   ]
  },
  {
   "cell_type": "code",
   "execution_count": 9,
   "id": "498ebe46",
   "metadata": {},
   "outputs": [],
   "source": [
    "coal_data= values[coal_cond]"
   ]
  },
  {
   "cell_type": "code",
   "execution_count": 10,
   "id": "2dac406c",
   "metadata": {},
   "outputs": [
    {
     "data": {
      "text/plain": [
       "(672, 6)"
      ]
     },
     "execution_count": 10,
     "metadata": {},
     "output_type": "execute_result"
    }
   ],
   "source": [
    "coal_data.shape"
   ]
  },
  {
   "cell_type": "markdown",
   "id": "a6e0a7b8",
   "metadata": {},
   "source": [
    "## Save into file"
   ]
  },
  {
   "cell_type": "code",
   "execution_count": 12,
   "id": "1e1d4a48",
   "metadata": {},
   "outputs": [],
   "source": [
    "np.savetxt(\"coal.csv\",coal_data,fmt=\"%s\",delimiter=\",\")"
   ]
  },
  {
   "cell_type": "markdown",
   "id": "6f278f42",
   "metadata": {},
   "source": [
    "## Extract the conventional hydroelectric power"
   ]
  },
  {
   "cell_type": "code",
   "execution_count": 13,
   "id": "844c6fab",
   "metadata": {},
   "outputs": [
    {
     "data": {
      "text/plain": [
       "array([False, False, False, ..., False, False, False])"
      ]
     },
     "execution_count": 13,
     "metadata": {},
     "output_type": "execute_result"
    }
   ],
   "source": [
    "values[:,4] == 'Electricity Net Generation From Conventional Hydroelectric Power, All Sectors'"
   ]
  },
  {
   "cell_type": "code",
   "execution_count": 14,
   "id": "eaef73d8",
   "metadata": {},
   "outputs": [],
   "source": [
    "chp_cond = values[:,4] == 'Electricity Net Generation From Conventional Hydroelectric Power, All Sectors'"
   ]
  },
  {
   "cell_type": "code",
   "execution_count": 15,
   "id": "49c7385f",
   "metadata": {},
   "outputs": [],
   "source": [
    "chp_data = values[chp_cond]"
   ]
  },
  {
   "cell_type": "code",
   "execution_count": 16,
   "id": "3864699b",
   "metadata": {},
   "outputs": [
    {
     "data": {
      "text/plain": [
       "(672, 6)"
      ]
     },
     "execution_count": 16,
     "metadata": {},
     "output_type": "execute_result"
    }
   ],
   "source": [
    "chp_data.shape"
   ]
  },
  {
   "cell_type": "markdown",
   "id": "e01d60e4",
   "metadata": {},
   "source": [
    "## Save into file"
   ]
  },
  {
   "cell_type": "code",
   "execution_count": 18,
   "id": "f0f2fe4f",
   "metadata": {},
   "outputs": [],
   "source": [
    "np.savetxt(\"chp.csv\",chp_data,fmt=\"%s\",delimiter=\",\")"
   ]
  },
  {
   "cell_type": "markdown",
   "id": "51099af9",
   "metadata": {},
   "source": [
    "## Extract the geothermal data"
   ]
  },
  {
   "cell_type": "code",
   "execution_count": 20,
   "id": "97e2b723",
   "metadata": {},
   "outputs": [
    {
     "data": {
      "text/plain": [
       "array([False, False, False, ..., False, False, False])"
      ]
     },
     "execution_count": 20,
     "metadata": {},
     "output_type": "execute_result"
    }
   ],
   "source": [
    "values[:,4] == 'Electricity Net Generation From Geothermal, All Sectors'"
   ]
  },
  {
   "cell_type": "code",
   "execution_count": 21,
   "id": "3f077af1",
   "metadata": {},
   "outputs": [],
   "source": [
    "geo_cond = values[:,4] == 'Electricity Net Generation From Geothermal, All Sectors'"
   ]
  },
  {
   "cell_type": "code",
   "execution_count": 23,
   "id": "841fc56c",
   "metadata": {},
   "outputs": [],
   "source": [
    "geo_data = values[geo_cond]"
   ]
  },
  {
   "cell_type": "code",
   "execution_count": 24,
   "id": "3f04d612",
   "metadata": {},
   "outputs": [
    {
     "data": {
      "text/plain": [
       "(672, 6)"
      ]
     },
     "execution_count": 24,
     "metadata": {},
     "output_type": "execute_result"
    }
   ],
   "source": [
    "geo_data.shape"
   ]
  },
  {
   "cell_type": "markdown",
   "id": "05a1d71d",
   "metadata": {},
   "source": [
    "## Save into file"
   ]
  },
  {
   "cell_type": "code",
   "execution_count": 26,
   "id": "2d98096e",
   "metadata": {},
   "outputs": [],
   "source": [
    "np.savetxt(\"geo.csv\",geo_data,fmt=\"%s\",delimiter=\",\")"
   ]
  },
  {
   "cell_type": "markdown",
   "id": "c6ebabdb",
   "metadata": {},
   "source": [
    "## Extract the hydroelectric pumped storage data"
   ]
  },
  {
   "cell_type": "code",
   "execution_count": 27,
   "id": "dff19d4d",
   "metadata": {},
   "outputs": [
    {
     "data": {
      "text/plain": [
       "array([False, False, False, ..., False, False, False])"
      ]
     },
     "execution_count": 27,
     "metadata": {},
     "output_type": "execute_result"
    }
   ],
   "source": [
    "values[:,4] == 'Electricity Net Generation From Hydroelectric Pumped Storage, All Sectors'"
   ]
  },
  {
   "cell_type": "code",
   "execution_count": 29,
   "id": "cc5003bd",
   "metadata": {},
   "outputs": [],
   "source": [
    "hps_cond = values[:,4] == 'Electricity Net Generation From Hydroelectric Pumped Storage, All Sectors'"
   ]
  },
  {
   "cell_type": "code",
   "execution_count": 30,
   "id": "1fc24f9c",
   "metadata": {},
   "outputs": [],
   "source": [
    "hps_data = values[hps_cond]"
   ]
  },
  {
   "cell_type": "code",
   "execution_count": 31,
   "id": "12532c35",
   "metadata": {},
   "outputs": [
    {
     "data": {
      "text/plain": [
       "(672, 6)"
      ]
     },
     "execution_count": 31,
     "metadata": {},
     "output_type": "execute_result"
    }
   ],
   "source": [
    "hps_data.shape"
   ]
  },
  {
   "cell_type": "markdown",
   "id": "3cddfbc0",
   "metadata": {},
   "source": [
    "## Save into file"
   ]
  },
  {
   "cell_type": "code",
   "execution_count": 32,
   "id": "f7d9a694",
   "metadata": {},
   "outputs": [],
   "source": [
    "np.savetxt(\"hps.csv\",hps_data,fmt=\"%s\",delimiter=\",\")"
   ]
  },
  {
   "cell_type": "markdown",
   "id": "cd427b17",
   "metadata": {},
   "source": [
    "## Extract the natural gas data"
   ]
  },
  {
   "cell_type": "code",
   "execution_count": 33,
   "id": "bee11cb8",
   "metadata": {},
   "outputs": [
    {
     "data": {
      "text/plain": [
       "array([False, False, False, ..., False, False, False])"
      ]
     },
     "execution_count": 33,
     "metadata": {},
     "output_type": "execute_result"
    }
   ],
   "source": [
    "values[:,4] == 'Electricity Net Generation From Natural Gas, All Sectors'"
   ]
  },
  {
   "cell_type": "code",
   "execution_count": 34,
   "id": "1ec36aa8",
   "metadata": {},
   "outputs": [],
   "source": [
    "ng_cond = values[:,4] == 'Electricity Net Generation From Natural Gas, All Sectors'"
   ]
  },
  {
   "cell_type": "code",
   "execution_count": 35,
   "id": "bd151a9f",
   "metadata": {},
   "outputs": [],
   "source": [
    "ng_data = values[ng_cond]"
   ]
  },
  {
   "cell_type": "code",
   "execution_count": 36,
   "id": "1612564a",
   "metadata": {},
   "outputs": [
    {
     "data": {
      "text/plain": [
       "(672, 6)"
      ]
     },
     "execution_count": 36,
     "metadata": {},
     "output_type": "execute_result"
    }
   ],
   "source": [
    "ng_data.shape"
   ]
  },
  {
   "cell_type": "markdown",
   "id": "27436999",
   "metadata": {},
   "source": [
    "## Save into file"
   ]
  },
  {
   "cell_type": "code",
   "execution_count": 37,
   "id": "c4d4e2de",
   "metadata": {},
   "outputs": [],
   "source": [
    "np.savetxt(\"ng.csv\",ng_data,fmt=\"%s\",delimiter=\",\")"
   ]
  },
  {
   "cell_type": "markdown",
   "id": "c3388ff2",
   "metadata": {},
   "source": [
    "## Extract the nuclear electric power data"
   ]
  },
  {
   "cell_type": "code",
   "execution_count": 38,
   "id": "e52c77ac",
   "metadata": {},
   "outputs": [
    {
     "data": {
      "text/plain": [
       "array([False, False, False, ..., False, False, False])"
      ]
     },
     "execution_count": 38,
     "metadata": {},
     "output_type": "execute_result"
    }
   ],
   "source": [
    "values[:,4] == 'Electricity Net Generation From Nuclear Electric Power, All Sectors'"
   ]
  },
  {
   "cell_type": "code",
   "execution_count": 39,
   "id": "8271f207",
   "metadata": {},
   "outputs": [],
   "source": [
    "nep_cond = values[:,4] == 'Electricity Net Generation From Nuclear Electric Power, All Sectors'"
   ]
  },
  {
   "cell_type": "code",
   "execution_count": 40,
   "id": "0b73623f",
   "metadata": {},
   "outputs": [],
   "source": [
    "nep_data = values[nep_cond]"
   ]
  },
  {
   "cell_type": "code",
   "execution_count": 41,
   "id": "6af41014",
   "metadata": {},
   "outputs": [
    {
     "data": {
      "text/plain": [
       "(672, 6)"
      ]
     },
     "execution_count": 41,
     "metadata": {},
     "output_type": "execute_result"
    }
   ],
   "source": [
    "nep_data.shape"
   ]
  },
  {
   "cell_type": "markdown",
   "id": "01f41b23",
   "metadata": {},
   "source": [
    "## Save into file"
   ]
  },
  {
   "cell_type": "code",
   "execution_count": 42,
   "id": "4b11a279",
   "metadata": {},
   "outputs": [],
   "source": [
    "np.savetxt(\"nep.csv\",nep_data,fmt=\"%s\",delimiter=\",\")"
   ]
  },
  {
   "cell_type": "markdown",
   "id": "9250b239",
   "metadata": {},
   "source": [
    "## Extract the other gases data"
   ]
  },
  {
   "cell_type": "code",
   "execution_count": 44,
   "id": "2af300a3",
   "metadata": {},
   "outputs": [
    {
     "data": {
      "text/plain": [
       "array([False, False, False, ..., False, False, False])"
      ]
     },
     "execution_count": 44,
     "metadata": {},
     "output_type": "execute_result"
    }
   ],
   "source": [
    "values[:,4] == 'Electricity Net Generation From Other Gases, All Sectors'"
   ]
  },
  {
   "cell_type": "code",
   "execution_count": 45,
   "id": "9ea618b5",
   "metadata": {},
   "outputs": [],
   "source": [
    "og_cond = values[:,4] == 'Electricity Net Generation From Other Gases, All Sectors'"
   ]
  },
  {
   "cell_type": "code",
   "execution_count": 46,
   "id": "0da41bc7",
   "metadata": {},
   "outputs": [],
   "source": [
    "og_data = values[og_cond]"
   ]
  },
  {
   "cell_type": "code",
   "execution_count": 47,
   "id": "dc372cd4",
   "metadata": {},
   "outputs": [
    {
     "data": {
      "text/plain": [
       "(672, 6)"
      ]
     },
     "execution_count": 47,
     "metadata": {},
     "output_type": "execute_result"
    }
   ],
   "source": [
    "og_data.shape"
   ]
  },
  {
   "cell_type": "markdown",
   "id": "15a95944",
   "metadata": {},
   "source": [
    "## Save into file"
   ]
  },
  {
   "cell_type": "code",
   "execution_count": 48,
   "id": "2b2a4a18",
   "metadata": {},
   "outputs": [],
   "source": [
    "np.savetxt(\"og.csv\",og_data,fmt=\"%s\",delimiter=\",\")"
   ]
  },
  {
   "cell_type": "markdown",
   "id": "526f8aa1",
   "metadata": {},
   "source": [
    "## Extract the petroleum data"
   ]
  },
  {
   "cell_type": "code",
   "execution_count": 49,
   "id": "509cc7bd",
   "metadata": {},
   "outputs": [
    {
     "data": {
      "text/plain": [
       "array([False, False, False, ..., False, False, False])"
      ]
     },
     "execution_count": 49,
     "metadata": {},
     "output_type": "execute_result"
    }
   ],
   "source": [
    "values[:,4] == 'Electricity Net Generation From Petroleum, All Sectors'"
   ]
  },
  {
   "cell_type": "code",
   "execution_count": 50,
   "id": "7418bd5b",
   "metadata": {},
   "outputs": [],
   "source": [
    "petroleum_cond = values[:,4] == 'Electricity Net Generation From Petroleum, All Sectors'"
   ]
  },
  {
   "cell_type": "code",
   "execution_count": 51,
   "id": "1dd87fd6",
   "metadata": {},
   "outputs": [],
   "source": [
    "petroleum_data = values[petroleum_cond]"
   ]
  },
  {
   "cell_type": "code",
   "execution_count": 52,
   "id": "0f01cee2",
   "metadata": {},
   "outputs": [
    {
     "data": {
      "text/plain": [
       "(672, 6)"
      ]
     },
     "execution_count": 52,
     "metadata": {},
     "output_type": "execute_result"
    }
   ],
   "source": [
    "petroleum_data.shape"
   ]
  },
  {
   "cell_type": "markdown",
   "id": "11befff0",
   "metadata": {},
   "source": [
    "## Save into file"
   ]
  },
  {
   "cell_type": "code",
   "execution_count": 54,
   "id": "86017544",
   "metadata": {},
   "outputs": [],
   "source": [
    "np.savetxt(\"petroleum.csv\",petroleum_data,fmt=\"%s\",delimiter=\",\")"
   ]
  },
  {
   "cell_type": "markdown",
   "id": "662821ff",
   "metadata": {},
   "source": [
    "## Extract the solar data"
   ]
  },
  {
   "cell_type": "code",
   "execution_count": 55,
   "id": "807f7928",
   "metadata": {},
   "outputs": [
    {
     "data": {
      "text/plain": [
       "array([False, False, False, ..., False, False, False])"
      ]
     },
     "execution_count": 55,
     "metadata": {},
     "output_type": "execute_result"
    }
   ],
   "source": [
    "values[:,4] == 'Electricity Net Generation From Solar, All Sectors'"
   ]
  },
  {
   "cell_type": "code",
   "execution_count": 56,
   "id": "ccbb9a0a",
   "metadata": {},
   "outputs": [],
   "source": [
    "solar_cond = values[:,4] ==  'Electricity Net Generation From Solar, All Sectors'"
   ]
  },
  {
   "cell_type": "code",
   "execution_count": 58,
   "id": "32aa1b50",
   "metadata": {},
   "outputs": [],
   "source": [
    "solar_data = values[solar_cond]"
   ]
  },
  {
   "cell_type": "code",
   "execution_count": 59,
   "id": "1004aba9",
   "metadata": {},
   "outputs": [
    {
     "data": {
      "text/plain": [
       "(672, 6)"
      ]
     },
     "execution_count": 59,
     "metadata": {},
     "output_type": "execute_result"
    }
   ],
   "source": [
    "solar_data.shape"
   ]
  },
  {
   "cell_type": "markdown",
   "id": "db0c03f0",
   "metadata": {},
   "source": [
    "## Save into file"
   ]
  },
  {
   "cell_type": "code",
   "execution_count": 60,
   "id": "643d22c8",
   "metadata": {},
   "outputs": [],
   "source": [
    "np.savetxt(\"solar.csv\",solar_data,fmt=\"%s\",delimiter=\",\")"
   ]
  },
  {
   "cell_type": "markdown",
   "id": "6c66f71e",
   "metadata": {},
   "source": [
    "## Extract the waste data"
   ]
  },
  {
   "cell_type": "code",
   "execution_count": 61,
   "id": "d3d1045c",
   "metadata": {},
   "outputs": [
    {
     "data": {
      "text/plain": [
       "array([False, False, False, ..., False, False, False])"
      ]
     },
     "execution_count": 61,
     "metadata": {},
     "output_type": "execute_result"
    }
   ],
   "source": [
    "values[:,4] == 'Electricity Net Generation From Waste, All Sectors'"
   ]
  },
  {
   "cell_type": "code",
   "execution_count": 62,
   "id": "b6984346",
   "metadata": {},
   "outputs": [],
   "source": [
    "waste_cond = values[:,4] == 'Electricity Net Generation From Waste, All Sectors'"
   ]
  },
  {
   "cell_type": "code",
   "execution_count": 63,
   "id": "c3fb0974",
   "metadata": {},
   "outputs": [],
   "source": [
    "waste_data = values[waste_cond]"
   ]
  },
  {
   "cell_type": "code",
   "execution_count": 64,
   "id": "2492aca1",
   "metadata": {},
   "outputs": [
    {
     "data": {
      "text/plain": [
       "(672, 6)"
      ]
     },
     "execution_count": 64,
     "metadata": {},
     "output_type": "execute_result"
    }
   ],
   "source": [
    "waste_data.shape"
   ]
  },
  {
   "cell_type": "markdown",
   "id": "1ef549c5",
   "metadata": {},
   "source": [
    "## Save into file"
   ]
  },
  {
   "cell_type": "code",
   "execution_count": 65,
   "id": "2d422728",
   "metadata": {},
   "outputs": [],
   "source": [
    "np.savetxt(\"waste.csv\",waste_data,fmt=\"%s\",delimiter=\",\")"
   ]
  },
  {
   "cell_type": "markdown",
   "id": "210f4eb3",
   "metadata": {},
   "source": [
    "## Extract the wood data"
   ]
  },
  {
   "cell_type": "code",
   "execution_count": 67,
   "id": "a684bd21",
   "metadata": {},
   "outputs": [
    {
     "data": {
      "text/plain": [
       "array([False, False, False, ..., False, False, False])"
      ]
     },
     "execution_count": 67,
     "metadata": {},
     "output_type": "execute_result"
    }
   ],
   "source": [
    "values[:,4] ==  'Electricity Net Generation From Wood, All Sectors'"
   ]
  },
  {
   "cell_type": "code",
   "execution_count": 68,
   "id": "97cb9816",
   "metadata": {},
   "outputs": [],
   "source": [
    "wood_cond = values[:,4] ==  'Electricity Net Generation From Wood, All Sectors'"
   ]
  },
  {
   "cell_type": "code",
   "execution_count": 69,
   "id": "acf03ac4",
   "metadata": {},
   "outputs": [],
   "source": [
    "wood_data = values[wood_cond]"
   ]
  },
  {
   "cell_type": "code",
   "execution_count": 70,
   "id": "4b0bcdf4",
   "metadata": {},
   "outputs": [
    {
     "data": {
      "text/plain": [
       "(672, 6)"
      ]
     },
     "execution_count": 70,
     "metadata": {},
     "output_type": "execute_result"
    }
   ],
   "source": [
    "wood_data.shape"
   ]
  },
  {
   "cell_type": "markdown",
   "id": "fa350b50",
   "metadata": {},
   "source": [
    "## Save into file"
   ]
  },
  {
   "cell_type": "code",
   "execution_count": 71,
   "id": "e1b7bdda",
   "metadata": {},
   "outputs": [],
   "source": [
    "np.savetxt(\"wood.csv\",wood_data,fmt=\"%s\",delimiter=\",\")"
   ]
  },
  {
   "cell_type": "markdown",
   "id": "f7de3f91",
   "metadata": {},
   "source": [
    "## Exctract the sources not shown data"
   ]
  },
  {
   "cell_type": "code",
   "execution_count": 72,
   "id": "5071f0d0",
   "metadata": {},
   "outputs": [
    {
     "data": {
      "text/plain": [
       "array([False, False, False, ...,  True,  True,  True])"
      ]
     },
     "execution_count": 72,
     "metadata": {},
     "output_type": "execute_result"
    }
   ],
   "source": [
    "values[:,4] ==  'Electricity Net Generation Total (including from sources not shown), All Sectors'"
   ]
  },
  {
   "cell_type": "code",
   "execution_count": 73,
   "id": "383b539a",
   "metadata": {},
   "outputs": [],
   "source": [
    "sns_cond = values[:,4] ==  'Electricity Net Generation Total (including from sources not shown), All Sectors'"
   ]
  },
  {
   "cell_type": "code",
   "execution_count": 75,
   "id": "5e78a406",
   "metadata": {},
   "outputs": [],
   "source": [
    "sns_data = values[sns_cond]"
   ]
  },
  {
   "cell_type": "code",
   "execution_count": 76,
   "id": "57816a17",
   "metadata": {},
   "outputs": [
    {
     "data": {
      "text/plain": [
       "(672, 6)"
      ]
     },
     "execution_count": 76,
     "metadata": {},
     "output_type": "execute_result"
    }
   ],
   "source": [
    "sns_data.shape"
   ]
  },
  {
   "cell_type": "markdown",
   "id": "d58afbb2",
   "metadata": {},
   "source": [
    "## Save into file"
   ]
  },
  {
   "cell_type": "code",
   "execution_count": 77,
   "id": "bc1dd967",
   "metadata": {},
   "outputs": [],
   "source": [
    "np.savetxt(\"sns.csv\",sns_data,fmt=\"%s\",delimiter=\",\")"
   ]
  },
  {
   "cell_type": "markdown",
   "id": "20d283e4",
   "metadata": {},
   "source": [
    "## Lets explore the wind data"
   ]
  },
  {
   "cell_type": "code",
   "execution_count": 13,
   "id": "89ffa708",
   "metadata": {},
   "outputs": [
    {
     "data": {
      "text/plain": [
       "array([['WYETPUS', '194913', 'Not Available', '12',\n",
       "        'Electricity Net Generation From Wind, All Sectors',\n",
       "        'Million Kilowatthours'],\n",
       "       ['WYETPUS', '195013', 'Not Available', '12',\n",
       "        'Electricity Net Generation From Wind, All Sectors',\n",
       "        'Million Kilowatthours'],\n",
       "       ['WYETPUS', '195113', 'Not Available', '12',\n",
       "        'Electricity Net Generation From Wind, All Sectors',\n",
       "        'Million Kilowatthours'],\n",
       "       ...,\n",
       "       ['WYETPUS', '202209', '27024.307', '12',\n",
       "        'Electricity Net Generation From Wind, All Sectors',\n",
       "        'Million Kilowatthours'],\n",
       "       ['WYETPUS', '202210', '32824.906', '12',\n",
       "        'Electricity Net Generation From Wind, All Sectors',\n",
       "        'Million Kilowatthours'],\n",
       "       ['WYETPUS', '202211', '41971.407', '12',\n",
       "        'Electricity Net Generation From Wind, All Sectors',\n",
       "        'Million Kilowatthours']], dtype='<U80')"
      ]
     },
     "execution_count": 13,
     "metadata": {},
     "output_type": "execute_result"
    }
   ],
   "source": [
    "wind_data"
   ]
  },
  {
   "cell_type": "markdown",
   "id": "c4134153",
   "metadata": {},
   "source": [
    "## EDA -Exploratory Data Analysis"
   ]
  },
  {
   "cell_type": "code",
   "execution_count": 16,
   "id": "68566799",
   "metadata": {},
   "outputs": [
    {
     "name": "stdout",
     "output_type": "stream",
     "text": [
      "Row:  672\n",
      "Column:  6\n"
     ]
    }
   ],
   "source": [
    "# return the shape of the data\n",
    "print(\"Row: \", wind_data.shape[0])\n",
    "print(\"Column: \", wind_data.shape[1])"
   ]
  },
  {
   "cell_type": "markdown",
   "id": "3def1609",
   "metadata": {},
   "source": [
    "## Data cleaning"
   ]
  },
  {
   "cell_type": "markdown",
   "id": "1ed3152c",
   "metadata": {},
   "source": [
    "** In the value column, some data point includes \"Not Available\" which means energy were not recorded under wind for that year"
   ]
  },
  {
   "cell_type": "code",
   "execution_count": 17,
   "id": "d27facf4",
   "metadata": {},
   "outputs": [
    {
     "data": {
      "text/plain": [
       "array(['Not Available', 'Not Available', 'Not Available', 'Not Available',\n",
       "       'Not Available', 'Not Available', 'Not Available', 'Not Available',\n",
       "       'Not Available', 'Not Available', 'Not Available', 'Not Available',\n",
       "       'Not Available', 'Not Available', 'Not Available', 'Not Available',\n",
       "       'Not Available', 'Not Available', 'Not Available', 'Not Available',\n",
       "       'Not Available', 'Not Available', 'Not Available', 'Not Available',\n",
       "       'Not Available', 'Not Available', 'Not Available', 'Not Available',\n",
       "       'Not Available', 'Not Available', 'Not Available', 'Not Available',\n",
       "       'Not Available', 'Not Available', 'Not Available', 'Not Available',\n",
       "       'Not Available', 'Not Available', 'Not Available', 'Not Available',\n",
       "       'Not Available', 'Not Available', 'Not Available', 'Not Available',\n",
       "       'Not Available', 'Not Available', 'Not Available', 'Not Available',\n",
       "       'Not Available', 'Not Available', 'Not Available', 'Not Available',\n",
       "       'Not Available', 'Not Available', 'Not Available', 'Not Available',\n",
       "       'Not Available', 'Not Available', 'Not Available', 'Not Available',\n",
       "       'Not Available', 'Not Available', 'Not Available', 'Not Available',\n",
       "       'Not Available', 'Not Available', 'Not Available', 'Not Available',\n",
       "       'Not Available', 'Not Available', 'Not Available', 'Not Available',\n",
       "       'Not Available', 'Not Available', 'Not Available', 'Not Available',\n",
       "       'Not Available', 'Not Available', 'Not Available', 'Not Available',\n",
       "       'Not Available', 'Not Available', 'Not Available', 'Not Available',\n",
       "       'Not Available', 'Not Available', 'Not Available', 'Not Available',\n",
       "       'Not Available', 'Not Available', 'Not Available', 'Not Available',\n",
       "       'Not Available', 'Not Available', 'Not Available', 'Not Available',\n",
       "       'Not Available', 'Not Available', 'Not Available', 'Not Available',\n",
       "       'Not Available', 'Not Available', 'Not Available', 'Not Available',\n",
       "       'Not Available', 'Not Available', 'Not Available', 'Not Available',\n",
       "       'Not Available', 'Not Available', 'Not Available', 'Not Available',\n",
       "       'Not Available', 'Not Available', 'Not Available', 'Not Available',\n",
       "       'Not Available', 'Not Available', 'Not Available', 'Not Available',\n",
       "       'Not Available', 'Not Available', 'Not Available', 'Not Available',\n",
       "       'Not Available', 'Not Available', 'Not Available', 'Not Available',\n",
       "       'Not Available', 'Not Available', 'Not Available', 'Not Available',\n",
       "       'Not Available', 'Not Available', 'Not Available', 'Not Available',\n",
       "       'Not Available', 'Not Available', 'Not Available', 'Not Available',\n",
       "       'Not Available', 'Not Available', 'Not Available', 'Not Available',\n",
       "       'Not Available', 'Not Available', 'Not Available', 'Not Available',\n",
       "       'Not Available', 'Not Available', 'Not Available', 'Not Available',\n",
       "       'Not Available', 'Not Available', '0.172', '0.018', '0.313',\n",
       "       '0.214', '0.251', '0.212', '0.097', '0.01', '0.378', '0.464',\n",
       "       '0.423', '0.117', '2.668', '0.041', '0.199', '0.184', '0.562',\n",
       "       '0.758', '0.599', '0.468', '0.266', '0.499', '0.87', '0.847',\n",
       "       '1.197', '6.49', '0.635', '1.093', '0.69', '0.581', '0.337',\n",
       "       '0.337', '0.071', '0.363', '0.832', '0.524', '0.194', '0.105',\n",
       "       '5.762', '0.155', '0.169', '0.69', '0.613', '0.74', '0.502',\n",
       "       '0.522', '0.46', '0.069', '0.227', '0.012', '0.03', '4.189',\n",
       "       '0.075', '0.004', '-0.009', '0.146', '0.328', '0.965', '1.226',\n",
       "       '0.232', '0.226', '0.062', '0.063', '0.224', '3.541', '0.642',\n",
       "       '-0.001', '0.03', '0.031', '0.016', '0.013', '-0.004', '0.022',\n",
       "       '0.005', '0.033', '0.031', '0.053', '0.871', '145.754', '223.489',\n",
       "       '255.996', '238.112', '204.252', '156.368', '142.075', '103.095',\n",
       "       '280.158', '175.613', '122.834', '64.296', '2112.043', '301.281',\n",
       "       '231.216', '245.229', '420.392', '350.327', '406.379', '119.111',\n",
       "       '70.065', '91.085', '203.189', '231.216', '119.111', '2788.6',\n",
       "       '62.125', '289.918', '207.084', '238.147', '362.397', '155.313',\n",
       "       '155.313', '227.793', '207.084', '424.523', '424.523', '196.73',\n",
       "       '2950.951', '150.001', '515.629', '328.128', '318.753', '93.751',\n",
       "       '75.001', '75.001', '140.626', '318.753', '243.752', '281.252',\n",
       "       '346.878', '2887.523', '247.393', '49.479', '519.526', '371.09',\n",
       "       '371.09', '86.588', '136.066', '74.218', '136.066', '284.502',\n",
       "       '457.677', '272.132', '3005.827', '0', '100.401', '546.629',\n",
       "       '412.761', '368.138', '368.138', '189.647', '133.868', '312.359',\n",
       "       '356.982', '490.85', '167.335', '3447.109', '5.703', '23.382',\n",
       "       '4.562', '6.843', '408.613', '498.433', '619.905', '545.767',\n",
       "       '572.856', '256.63', '125.179', '96.379', '3164.253', '147.279',\n",
       "       '111.817', '187.533', '244.4', '391.679', '375.705', '535.125',\n",
       "       '415.001', '351.425', '253.026', '98.718', '122.36', '3234.069',\n",
       "       '120.475', '108.923', '148.531', '324.018', '350.423', '517.108',\n",
       "       '509.406', '530.31', '260.204', '274.507', '72.615', '71.515',\n",
       "       '3288.035', '17.395', '8.186', '6.139', '85.951', '143.252',\n",
       "       '394.967', '547.429', '421.571', '475.803', '298.784', '181.112',\n",
       "       '445.106', '3025.696', '337.019', '308.918', '446.692', '373.317',\n",
       "       '275.548', '253.887', '456.059', '382.294', '377.415', '418.591',\n",
       "       '354.192', '504.066', '4487.998', '645.286', '705.904', '350.019',\n",
       "       '330.074', '408.095', '447.007', '379.937', '376.417', '332.42',\n",
       "       '411.419', '823.033', '383.652', '5593.261', '389.25', '431.242',\n",
       "       '532.12', '684.695', '635.029', '669.634', '634.992', '577.206',\n",
       "       '490.229', '606.829', '470.448', '615.657', '6737.331', '811.402',\n",
       "       '713.931', '852.102', '1024.417', '1077.641', '1126.316',\n",
       "       '890.455', '976.691', '735.829', '734.355', '655.947', '755.194',\n",
       "       '10354.28', '632.339', '745.375', '1036.104', '1092.766',\n",
       "       '1006.383', '1047.145', '953.396', '815.429', '895.054', '897.161',\n",
       "       '961.433', '1104.881', '11187.466', '999.445', '1021.569',\n",
       "       '1291.224', '1294.857', '1701.651', '1397.206', '1164.37',\n",
       "       '1050.719', '1089.615', '1028.873', '932.203', '1172.009',\n",
       "       '14143.741', '1131.569', '966.482', '1560.626', '1697.504',\n",
       "       '1746.43', '1796.924', '1420.942', '1138.032', '1468.347',\n",
       "       '1446.19', '1609.691', '1827.814', '17810.549', '2382.633',\n",
       "       '1921.958', '2358.632', '2471.762', '2458.683', '2051.766',\n",
       "       '1955.064', '1655.187', '1879.144', '2442.13', '2540.489',\n",
       "       '2471.69', '26589.137', '2452.315', '2519.793', '3047.092',\n",
       "       '3171.703', '2952.341', '2620.416', '2158.372', '2699.365',\n",
       "       '2866.722', '3376.54', '3095.036', '3490.232', '34449.927',\n",
       "       '4273.185', '3851.749', '4782.02', '5225.282', '5340.284',\n",
       "       '5140.376', '4008.401', '3264.406', '3111.452', '4756.401',\n",
       "       '4993.646', '6615.899', '55363.1', '5950.825', '5852.175',\n",
       "       '7099.063', '7457.696', '6261.961', '5599.422', '4954.941',\n",
       "       '5464.474', '4650.708', '6813.626', '6875.183', '6906.058',\n",
       "       '73886.132', '6854.337', '5431.858', '8589.077', '9764.456',\n",
       "       '8697.525', '8049.021', '6723.891', '6685.855', '7105.502',\n",
       "       '7943.808', '9747.619', '9059.297', '94652.246', '8550.495',\n",
       "       '10451.562', '10544.646', '12421.657', '11772.161', '10985.069',\n",
       "       '7488.629', '7473.594', '6869.029', '10525.429', '12438.553',\n",
       "       '10655.775', '120176.599', '13632.395', '11051.982', '14026.442',\n",
       "       '12709.239', '12540.523', '11972.304', '8821.542', '8468.912',\n",
       "       '8789.666', '12635.641', '11648.59', '14524.467', '140821.703',\n",
       "       '14738.504', '14075.591', '15755.653', '17476.274', '16238.702',\n",
       "       '13748.106', '11093.614', '9633.884', '11674.081', '13635.018',\n",
       "       '15803.26', '13967.059', '167839.745', '17911.214', '14008.66',\n",
       "       '17735.883', '18635.549', '15601.367', '15798.817', '12187.392',\n",
       "       '10170.521', '11519.768', '14507.931', '18866.929', '14711.249',\n",
       "       '181655.282', '15162.146', '14921.545', '15307.929', '17867.149',\n",
       "       '17151.341', '13421.266', '13675.449', '13080.028', '13971.567',\n",
       "       '16380.039', '19681.716', '20098.373', '190718.548', '18466.402',\n",
       "       '20138.228', '21939.409', '20799.303', '18847.899', '16303.441',\n",
       "       '17618.357', '13589.326', '16403.64', '20335.39', '19405.642',\n",
       "       '23145.525', '226992.562', '20798.771', '22091.109', '25730.617',\n",
       "       '25377.943', '23067.639', '20141.747', '16119.996', '13878.848',\n",
       "       '17911.775', '24368.703', '22614.867', '22200.681', '254302.695',\n",
       "       '25598.822', '23189.489', '26463.704', '26430.857', '23953.128',\n",
       "       '24702.856', '16446.574', '19846.437', '18519.671', '21193.898',\n",
       "       '22015.734', '24306.284', '272667.454', '24301.45', '22622.753',\n",
       "       '25772.678', '28915.306', '25779.387', '22445.97', '22100.722',\n",
       "       '19978.031', '24513.468', '27624.519', '25184.359', '26643.84',\n",
       "       '295882.484', '28121.411', '29110.495', '29319.783', '29752.229',\n",
       "       '28377.505', '30212.405', '22866.198', '23029.332', '23185.978',\n",
       "       '28822.663', '33129.405', '32010.645', '337938.049', '30060.471',\n",
       "       '26715.501', '39205.248', '36157.807', '33786.508', '26671.534',\n",
       "       '21715.552', '27071.122', '28997.803', '32215.111', '35751.091',\n",
       "       '39849.028', '378196.775', '38083.974', '37992.489', '43015.752',\n",
       "       '45929.799', '41645.058', '33478.679', '29269.063', '24344.581',\n",
       "       '27024.307', '32824.906', '41971.407'], dtype='<U80')"
      ]
     },
     "execution_count": 17,
     "metadata": {},
     "output_type": "execute_result"
    }
   ],
   "source": [
    "wind_data[:,2]"
   ]
  },
  {
   "cell_type": "code",
   "execution_count": 21,
   "id": "6dcd9499",
   "metadata": {},
   "outputs": [
    {
     "data": {
      "text/plain": [
       "array([ True,  True,  True,  True,  True,  True,  True,  True,  True,\n",
       "        True,  True,  True,  True,  True,  True,  True,  True,  True,\n",
       "        True,  True,  True,  True,  True,  True,  True,  True,  True,\n",
       "        True,  True,  True,  True,  True,  True,  True,  True,  True,\n",
       "        True,  True,  True,  True,  True,  True,  True,  True,  True,\n",
       "        True,  True,  True,  True,  True,  True,  True,  True,  True,\n",
       "        True,  True,  True,  True,  True,  True,  True,  True,  True,\n",
       "        True,  True,  True,  True,  True,  True,  True,  True,  True,\n",
       "        True,  True,  True,  True,  True,  True,  True,  True,  True,\n",
       "        True,  True,  True,  True,  True,  True,  True,  True,  True,\n",
       "        True,  True,  True,  True,  True,  True,  True,  True,  True,\n",
       "        True,  True,  True,  True,  True,  True,  True,  True,  True,\n",
       "        True,  True,  True,  True,  True,  True,  True,  True,  True,\n",
       "        True,  True,  True,  True,  True,  True,  True,  True,  True,\n",
       "        True,  True,  True,  True,  True,  True,  True,  True,  True,\n",
       "        True,  True,  True,  True,  True,  True,  True,  True,  True,\n",
       "        True,  True,  True,  True,  True,  True,  True,  True,  True,\n",
       "        True, False, False, False, False, False, False, False, False,\n",
       "       False, False, False, False, False, False, False, False, False,\n",
       "       False, False, False, False, False, False, False, False, False,\n",
       "       False, False, False, False, False, False, False, False, False,\n",
       "       False, False, False, False, False, False, False, False, False,\n",
       "       False, False, False, False, False, False, False, False, False,\n",
       "       False, False, False, False, False, False, False, False, False,\n",
       "       False, False, False, False, False, False, False, False, False,\n",
       "       False, False, False, False, False, False, False, False, False,\n",
       "       False, False, False, False, False, False, False, False, False,\n",
       "       False, False, False, False, False, False, False, False, False,\n",
       "       False, False, False, False, False, False, False, False, False,\n",
       "       False, False, False, False, False, False, False, False, False,\n",
       "       False, False, False, False, False, False, False, False, False,\n",
       "       False, False, False, False, False, False, False, False, False,\n",
       "       False, False, False, False, False, False, False, False, False,\n",
       "       False, False, False, False, False, False, False, False, False,\n",
       "       False, False, False, False, False, False, False, False, False,\n",
       "       False, False, False, False, False, False, False, False, False,\n",
       "       False, False, False, False, False, False, False, False, False,\n",
       "       False, False, False, False, False, False, False, False, False,\n",
       "       False, False, False, False, False, False, False, False, False,\n",
       "       False, False, False, False, False, False, False, False, False,\n",
       "       False, False, False, False, False, False, False, False, False,\n",
       "       False, False, False, False, False, False, False, False, False,\n",
       "       False, False, False, False, False, False, False, False, False,\n",
       "       False, False, False, False, False, False, False, False, False,\n",
       "       False, False, False, False, False, False, False, False, False,\n",
       "       False, False, False, False, False, False, False, False, False,\n",
       "       False, False, False, False, False, False, False, False, False,\n",
       "       False, False, False, False, False, False, False, False, False,\n",
       "       False, False, False, False, False, False, False, False, False,\n",
       "       False, False, False, False, False, False, False, False, False,\n",
       "       False, False, False, False, False, False, False, False, False,\n",
       "       False, False, False, False, False, False, False, False, False,\n",
       "       False, False, False, False, False, False, False, False, False,\n",
       "       False, False, False, False, False, False, False, False, False,\n",
       "       False, False, False, False, False, False, False, False, False,\n",
       "       False, False, False, False, False, False, False, False, False,\n",
       "       False, False, False, False, False, False, False, False, False,\n",
       "       False, False, False, False, False, False, False, False, False,\n",
       "       False, False, False, False, False, False, False, False, False,\n",
       "       False, False, False, False, False, False, False, False, False,\n",
       "       False, False, False, False, False, False, False, False, False,\n",
       "       False, False, False, False, False, False, False, False, False,\n",
       "       False, False, False, False, False, False, False, False, False,\n",
       "       False, False, False, False, False, False, False, False, False,\n",
       "       False, False, False, False, False, False, False, False, False,\n",
       "       False, False, False, False, False, False, False, False, False,\n",
       "       False, False, False, False, False, False, False, False, False,\n",
       "       False, False, False, False, False, False, False, False, False,\n",
       "       False, False, False, False, False, False, False, False, False,\n",
       "       False, False, False, False, False, False, False, False, False,\n",
       "       False, False, False, False, False, False, False, False, False,\n",
       "       False, False, False, False, False, False, False, False, False,\n",
       "       False, False, False, False, False, False, False, False, False,\n",
       "       False, False, False, False, False, False, False, False, False,\n",
       "       False, False, False, False, False, False])"
      ]
     },
     "execution_count": 21,
     "metadata": {},
     "output_type": "execute_result"
    }
   ],
   "source": [
    "wind_data[:,2] == \"Not Available\""
   ]
  },
  {
   "cell_type": "code",
   "execution_count": 32,
   "id": "ad2e38eb",
   "metadata": {},
   "outputs": [],
   "source": [
    "available_mask = wind_data[:,2] != \"Not Available\"\n",
    "\n",
    "wind_data = wind_data[available_mask]"
   ]
  },
  {
   "cell_type": "markdown",
   "id": "0c4d3abb",
   "metadata": {},
   "source": [
    "## Save clean wind data"
   ]
  },
  {
   "cell_type": "code",
   "execution_count": 39,
   "id": "9cb88fa4",
   "metadata": {},
   "outputs": [],
   "source": [
    "np.savetxt(\"wind.csv\", wind_data,fmt=\"%s\",delimiter=\",\")"
   ]
  },
  {
   "cell_type": "markdown",
   "id": "c839c542",
   "metadata": {},
   "source": [
    "## Analysis"
   ]
  },
  {
   "cell_type": "code",
   "execution_count": 56,
   "id": "34c2563f",
   "metadata": {},
   "outputs": [
    {
     "name": "stdout",
     "output_type": "stream",
     "text": [
      "198313\n",
      "198413\n",
      "198513\n",
      "198613\n",
      "198713\n",
      "198813\n",
      "198913\n",
      "199013\n",
      "199113\n",
      "199213\n",
      "199313\n",
      "199413\n",
      "199513\n",
      "199613\n",
      "199713\n",
      "199813\n",
      "199913\n",
      "200013\n",
      "200113\n",
      "200213\n",
      "200313\n",
      "200413\n",
      "200513\n",
      "200613\n",
      "200713\n",
      "200813\n",
      "200913\n",
      "201013\n",
      "201113\n",
      "201213\n",
      "201313\n",
      "201413\n",
      "201513\n",
      "201613\n",
      "201713\n",
      "201813\n",
      "201913\n",
      "202013\n",
      "202113\n"
     ]
    }
   ],
   "source": [
    "for x in wind_data[:,1]:\n",
    "    if x[-2:] == \"13\":\n",
    "        print(x)"
   ]
  },
  {
   "cell_type": "code",
   "execution_count": 57,
   "id": "946ccd35",
   "metadata": {},
   "outputs": [
    {
     "data": {
      "text/plain": [
       "array([False, False, False, False, False, False, False, False, False,\n",
       "       False, False, False,  True, False, False, False, False, False,\n",
       "       False, False, False, False, False, False, False,  True, False,\n",
       "       False, False, False, False, False, False, False, False, False,\n",
       "       False, False,  True, False, False, False, False, False, False,\n",
       "       False, False, False, False, False, False,  True, False, False,\n",
       "       False, False, False, False, False, False, False, False, False,\n",
       "       False,  True, False, False, False, False, False, False, False,\n",
       "       False, False, False, False, False,  True, False, False, False,\n",
       "       False, False, False, False, False, False, False, False, False,\n",
       "        True, False, False, False, False, False, False, False, False,\n",
       "       False, False, False, False,  True, False, False, False, False,\n",
       "       False, False, False, False, False, False, False, False,  True,\n",
       "       False, False, False, False, False, False, False, False, False,\n",
       "       False, False, False,  True, False, False, False, False, False,\n",
       "       False, False, False, False, False, False, False,  True, False,\n",
       "       False, False, False, False, False, False, False, False, False,\n",
       "       False, False,  True, False, False, False, False, False, False,\n",
       "       False, False, False, False, False, False,  True, False, False,\n",
       "       False, False, False, False, False, False, False, False, False,\n",
       "       False,  True, False, False, False, False, False, False, False,\n",
       "       False, False, False, False, False,  True, False, False, False,\n",
       "       False, False, False, False, False, False, False, False, False,\n",
       "        True, False, False, False, False, False, False, False, False,\n",
       "       False, False, False, False,  True, False, False, False, False,\n",
       "       False, False, False, False, False, False, False, False,  True,\n",
       "       False, False, False, False, False, False, False, False, False,\n",
       "       False, False, False,  True, False, False, False, False, False,\n",
       "       False, False, False, False, False, False, False,  True, False,\n",
       "       False, False, False, False, False, False, False, False, False,\n",
       "       False, False,  True, False, False, False, False, False, False,\n",
       "       False, False, False, False, False, False,  True, False, False,\n",
       "       False, False, False, False, False, False, False, False, False,\n",
       "       False,  True, False, False, False, False, False, False, False,\n",
       "       False, False, False, False, False,  True, False, False, False,\n",
       "       False, False, False, False, False, False, False, False, False,\n",
       "        True, False, False, False, False, False, False, False, False,\n",
       "       False, False, False, False,  True, False, False, False, False,\n",
       "       False, False, False, False, False, False, False, False,  True,\n",
       "       False, False, False, False, False, False, False, False, False,\n",
       "       False, False, False,  True, False, False, False, False, False,\n",
       "       False, False, False, False, False, False, False,  True, False,\n",
       "       False, False, False, False, False, False, False, False, False,\n",
       "       False, False,  True, False, False, False, False, False, False,\n",
       "       False, False, False, False, False, False,  True, False, False,\n",
       "       False, False, False, False, False, False, False, False, False,\n",
       "       False,  True, False, False, False, False, False, False, False,\n",
       "       False, False, False, False, False,  True, False, False, False,\n",
       "       False, False, False, False, False, False, False, False, False,\n",
       "        True, False, False, False, False, False, False, False, False,\n",
       "       False, False, False, False,  True, False, False, False, False,\n",
       "       False, False, False, False, False, False, False, False,  True,\n",
       "       False, False, False, False, False, False, False, False, False,\n",
       "       False, False, False,  True, False, False, False, False, False,\n",
       "       False, False, False, False, False, False, False,  True, False,\n",
       "       False, False, False, False, False, False, False, False, False,\n",
       "       False, False,  True, False, False, False, False, False, False,\n",
       "       False, False, False, False, False])"
      ]
     },
     "execution_count": 57,
     "metadata": {},
     "output_type": "execute_result"
    }
   ],
   "source": [
    "np.array([x[-2:] == '13' for x in wind_data[:,1]])"
   ]
  },
  {
   "cell_type": "code",
   "execution_count": 58,
   "id": "d5f9e178",
   "metadata": {},
   "outputs": [],
   "source": [
    "annual_mask = np.array([x[-2:] == '13' for x in wind_data[:,1]])"
   ]
  },
  {
   "cell_type": "code",
   "execution_count": 59,
   "id": "35bb43e1",
   "metadata": {},
   "outputs": [],
   "source": [
    "annual_wind_data = wind_data[annual_mask]"
   ]
  },
  {
   "cell_type": "code",
   "execution_count": 61,
   "id": "262fc293",
   "metadata": {},
   "outputs": [
    {
     "data": {
      "text/plain": [
       "array([['WYETPUS', '198313', '2.668', '12',\n",
       "        'Electricity Net Generation From Wind, All Sectors',\n",
       "        'Million Kilowatthours'],\n",
       "       ['WYETPUS', '198413', '6.49', '12',\n",
       "        'Electricity Net Generation From Wind, All Sectors',\n",
       "        'Million Kilowatthours'],\n",
       "       ['WYETPUS', '198513', '5.762', '12',\n",
       "        'Electricity Net Generation From Wind, All Sectors',\n",
       "        'Million Kilowatthours'],\n",
       "       ['WYETPUS', '198613', '4.189', '12',\n",
       "        'Electricity Net Generation From Wind, All Sectors',\n",
       "        'Million Kilowatthours'],\n",
       "       ['WYETPUS', '198713', '3.541', '12',\n",
       "        'Electricity Net Generation From Wind, All Sectors',\n",
       "        'Million Kilowatthours'],\n",
       "       ['WYETPUS', '198813', '0.871', '12',\n",
       "        'Electricity Net Generation From Wind, All Sectors',\n",
       "        'Million Kilowatthours'],\n",
       "       ['WYETPUS', '198913', '2112.043', '12',\n",
       "        'Electricity Net Generation From Wind, All Sectors',\n",
       "        'Million Kilowatthours'],\n",
       "       ['WYETPUS', '199013', '2788.6', '12',\n",
       "        'Electricity Net Generation From Wind, All Sectors',\n",
       "        'Million Kilowatthours'],\n",
       "       ['WYETPUS', '199113', '2950.951', '12',\n",
       "        'Electricity Net Generation From Wind, All Sectors',\n",
       "        'Million Kilowatthours'],\n",
       "       ['WYETPUS', '199213', '2887.523', '12',\n",
       "        'Electricity Net Generation From Wind, All Sectors',\n",
       "        'Million Kilowatthours'],\n",
       "       ['WYETPUS', '199313', '3005.827', '12',\n",
       "        'Electricity Net Generation From Wind, All Sectors',\n",
       "        'Million Kilowatthours'],\n",
       "       ['WYETPUS', '199413', '3447.109', '12',\n",
       "        'Electricity Net Generation From Wind, All Sectors',\n",
       "        'Million Kilowatthours'],\n",
       "       ['WYETPUS', '199513', '3164.253', '12',\n",
       "        'Electricity Net Generation From Wind, All Sectors',\n",
       "        'Million Kilowatthours'],\n",
       "       ['WYETPUS', '199613', '3234.069', '12',\n",
       "        'Electricity Net Generation From Wind, All Sectors',\n",
       "        'Million Kilowatthours'],\n",
       "       ['WYETPUS', '199713', '3288.035', '12',\n",
       "        'Electricity Net Generation From Wind, All Sectors',\n",
       "        'Million Kilowatthours'],\n",
       "       ['WYETPUS', '199813', '3025.696', '12',\n",
       "        'Electricity Net Generation From Wind, All Sectors',\n",
       "        'Million Kilowatthours'],\n",
       "       ['WYETPUS', '199913', '4487.998', '12',\n",
       "        'Electricity Net Generation From Wind, All Sectors',\n",
       "        'Million Kilowatthours'],\n",
       "       ['WYETPUS', '200013', '5593.261', '12',\n",
       "        'Electricity Net Generation From Wind, All Sectors',\n",
       "        'Million Kilowatthours'],\n",
       "       ['WYETPUS', '200113', '6737.331', '12',\n",
       "        'Electricity Net Generation From Wind, All Sectors',\n",
       "        'Million Kilowatthours'],\n",
       "       ['WYETPUS', '200213', '10354.28', '12',\n",
       "        'Electricity Net Generation From Wind, All Sectors',\n",
       "        'Million Kilowatthours'],\n",
       "       ['WYETPUS', '200313', '11187.466', '12',\n",
       "        'Electricity Net Generation From Wind, All Sectors',\n",
       "        'Million Kilowatthours'],\n",
       "       ['WYETPUS', '200413', '14143.741', '12',\n",
       "        'Electricity Net Generation From Wind, All Sectors',\n",
       "        'Million Kilowatthours'],\n",
       "       ['WYETPUS', '200513', '17810.549', '12',\n",
       "        'Electricity Net Generation From Wind, All Sectors',\n",
       "        'Million Kilowatthours'],\n",
       "       ['WYETPUS', '200613', '26589.137', '12',\n",
       "        'Electricity Net Generation From Wind, All Sectors',\n",
       "        'Million Kilowatthours'],\n",
       "       ['WYETPUS', '200713', '34449.927', '12',\n",
       "        'Electricity Net Generation From Wind, All Sectors',\n",
       "        'Million Kilowatthours'],\n",
       "       ['WYETPUS', '200813', '55363.1', '12',\n",
       "        'Electricity Net Generation From Wind, All Sectors',\n",
       "        'Million Kilowatthours'],\n",
       "       ['WYETPUS', '200913', '73886.132', '12',\n",
       "        'Electricity Net Generation From Wind, All Sectors',\n",
       "        'Million Kilowatthours'],\n",
       "       ['WYETPUS', '201013', '94652.246', '12',\n",
       "        'Electricity Net Generation From Wind, All Sectors',\n",
       "        'Million Kilowatthours'],\n",
       "       ['WYETPUS', '201113', '120176.599', '12',\n",
       "        'Electricity Net Generation From Wind, All Sectors',\n",
       "        'Million Kilowatthours'],\n",
       "       ['WYETPUS', '201213', '140821.703', '12',\n",
       "        'Electricity Net Generation From Wind, All Sectors',\n",
       "        'Million Kilowatthours'],\n",
       "       ['WYETPUS', '201313', '167839.745', '12',\n",
       "        'Electricity Net Generation From Wind, All Sectors',\n",
       "        'Million Kilowatthours'],\n",
       "       ['WYETPUS', '201413', '181655.282', '12',\n",
       "        'Electricity Net Generation From Wind, All Sectors',\n",
       "        'Million Kilowatthours'],\n",
       "       ['WYETPUS', '201513', '190718.548', '12',\n",
       "        'Electricity Net Generation From Wind, All Sectors',\n",
       "        'Million Kilowatthours'],\n",
       "       ['WYETPUS', '201613', '226992.562', '12',\n",
       "        'Electricity Net Generation From Wind, All Sectors',\n",
       "        'Million Kilowatthours'],\n",
       "       ['WYETPUS', '201713', '254302.695', '12',\n",
       "        'Electricity Net Generation From Wind, All Sectors',\n",
       "        'Million Kilowatthours'],\n",
       "       ['WYETPUS', '201813', '272667.454', '12',\n",
       "        'Electricity Net Generation From Wind, All Sectors',\n",
       "        'Million Kilowatthours'],\n",
       "       ['WYETPUS', '201913', '295882.484', '12',\n",
       "        'Electricity Net Generation From Wind, All Sectors',\n",
       "        'Million Kilowatthours'],\n",
       "       ['WYETPUS', '202013', '337938.049', '12',\n",
       "        'Electricity Net Generation From Wind, All Sectors',\n",
       "        'Million Kilowatthours'],\n",
       "       ['WYETPUS', '202113', '378196.775', '12',\n",
       "        'Electricity Net Generation From Wind, All Sectors',\n",
       "        'Million Kilowatthours']], dtype='<U80')"
      ]
     },
     "execution_count": 61,
     "metadata": {},
     "output_type": "execute_result"
    }
   ],
   "source": [
    "annual_wind_data"
   ]
  },
  {
   "cell_type": "markdown",
   "id": "b09b65b9",
   "metadata": {},
   "source": [
    "## 1. Total Energy Generated"
   ]
  },
  {
   "cell_type": "code",
   "execution_count": 33,
   "id": "172a7723",
   "metadata": {},
   "outputs": [],
   "source": [
    "all_energy = wind_data[:,2].astype(float)"
   ]
  },
  {
   "cell_type": "code",
   "execution_count": 34,
   "id": "c86929b9",
   "metadata": {},
   "outputs": [
    {
     "data": {
      "text/plain": [
       "6300329.402"
      ]
     },
     "execution_count": 34,
     "metadata": {},
     "output_type": "execute_result"
    }
   ],
   "source": [
    "all_energy.sum()"
   ]
  },
  {
   "cell_type": "code",
   "execution_count": 36,
   "id": "ef21eb10",
   "metadata": {},
   "outputs": [
    {
     "name": "stdout",
     "output_type": "stream",
     "text": [
      "The total wind energy generated in USA is: 6300329.402 killowatts per hour\n"
     ]
    }
   ],
   "source": [
    "print(\"The total wind energy generated in USA is: {} killowatts per hour\".format(all_energy.sum()))"
   ]
  },
  {
   "cell_type": "markdown",
   "id": "5f80c5d8",
   "metadata": {},
   "source": [
    "# 2. The mean energy generated"
   ]
  },
  {
   "cell_type": "code",
   "execution_count": 38,
   "id": "b1671b3c",
   "metadata": {},
   "outputs": [],
   "source": [
    "all_energy = wind_data[:,2].astype(float)"
   ]
  },
  {
   "cell_type": "code",
   "execution_count": 42,
   "id": "47ccf069",
   "metadata": {},
   "outputs": [
    {
     "data": {
      "text/plain": [
       "12162.798073359072"
      ]
     },
     "execution_count": 42,
     "metadata": {},
     "output_type": "execute_result"
    }
   ],
   "source": [
    "all_energy.mean()"
   ]
  },
  {
   "cell_type": "code",
   "execution_count": 40,
   "id": "89f11c8e",
   "metadata": {},
   "outputs": [
    {
     "name": "stdout",
     "output_type": "stream",
     "text": [
      "The total wind energy generated in USA is: 12162.798073359072 killowatts per hour\n"
     ]
    }
   ],
   "source": [
    "print(\"The total wind energy generated in USA is: {} killowatts per hour\".format(all_energy.mean()))"
   ]
  },
  {
   "cell_type": "markdown",
   "id": "488bb242",
   "metadata": {},
   "source": [
    "# 3. The standard deviation of energy generated"
   ]
  },
  {
   "cell_type": "code",
   "execution_count": 41,
   "id": "7ff227c6",
   "metadata": {},
   "outputs": [],
   "source": [
    "all_energy = wind_data[:,2].astype(float)"
   ]
  },
  {
   "cell_type": "code",
   "execution_count": 43,
   "id": "8f06adab",
   "metadata": {},
   "outputs": [
    {
     "data": {
      "text/plain": [
       "36339.92618593114"
      ]
     },
     "execution_count": 43,
     "metadata": {},
     "output_type": "execute_result"
    }
   ],
   "source": [
    "all_energy.std()"
   ]
  },
  {
   "cell_type": "code",
   "execution_count": 44,
   "id": "382b8504",
   "metadata": {},
   "outputs": [
    {
     "name": "stdout",
     "output_type": "stream",
     "text": [
      "The total wind energy generated in USA is: 36339.92618593114 killowatts per hour\n"
     ]
    }
   ],
   "source": [
    "print(\"The total wind energy generated in USA is: {} killowatts per hour\".format(all_energy.std()))"
   ]
  },
  {
   "cell_type": "code",
   "execution_count": 48,
   "id": "50fd600e",
   "metadata": {},
   "outputs": [],
   "source": [
    "y = wind_data[:,2]"
   ]
  },
  {
   "cell_type": "code",
   "execution_count": 49,
   "id": "e789e848",
   "metadata": {},
   "outputs": [
    {
     "data": {
      "text/plain": [
       "array(['0.172', '0.018', '0.313', '0.214', '0.251', '0.212', '0.097',\n",
       "       '0.01', '0.378', '0.464', '0.423', '0.117', '2.668', '0.041',\n",
       "       '0.199', '0.184', '0.562', '0.758', '0.599', '0.468', '0.266',\n",
       "       '0.499', '0.87', '0.847', '1.197', '6.49', '0.635', '1.093',\n",
       "       '0.69', '0.581', '0.337', '0.337', '0.071', '0.363', '0.832',\n",
       "       '0.524', '0.194', '0.105', '5.762', '0.155', '0.169', '0.69',\n",
       "       '0.613', '0.74', '0.502', '0.522', '0.46', '0.069', '0.227',\n",
       "       '0.012', '0.03', '4.189', '0.075', '0.004', '-0.009', '0.146',\n",
       "       '0.328', '0.965', '1.226', '0.232', '0.226', '0.062', '0.063',\n",
       "       '0.224', '3.541', '0.642', '-0.001', '0.03', '0.031', '0.016',\n",
       "       '0.013', '-0.004', '0.022', '0.005', '0.033', '0.031', '0.053',\n",
       "       '0.871', '145.754', '223.489', '255.996', '238.112', '204.252',\n",
       "       '156.368', '142.075', '103.095', '280.158', '175.613', '122.834',\n",
       "       '64.296', '2112.043', '301.281', '231.216', '245.229', '420.392',\n",
       "       '350.327', '406.379', '119.111', '70.065', '91.085', '203.189',\n",
       "       '231.216', '119.111', '2788.6', '62.125', '289.918', '207.084',\n",
       "       '238.147', '362.397', '155.313', '155.313', '227.793', '207.084',\n",
       "       '424.523', '424.523', '196.73', '2950.951', '150.001', '515.629',\n",
       "       '328.128', '318.753', '93.751', '75.001', '75.001', '140.626',\n",
       "       '318.753', '243.752', '281.252', '346.878', '2887.523', '247.393',\n",
       "       '49.479', '519.526', '371.09', '371.09', '86.588', '136.066',\n",
       "       '74.218', '136.066', '284.502', '457.677', '272.132', '3005.827',\n",
       "       '0', '100.401', '546.629', '412.761', '368.138', '368.138',\n",
       "       '189.647', '133.868', '312.359', '356.982', '490.85', '167.335',\n",
       "       '3447.109', '5.703', '23.382', '4.562', '6.843', '408.613',\n",
       "       '498.433', '619.905', '545.767', '572.856', '256.63', '125.179',\n",
       "       '96.379', '3164.253', '147.279', '111.817', '187.533', '244.4',\n",
       "       '391.679', '375.705', '535.125', '415.001', '351.425', '253.026',\n",
       "       '98.718', '122.36', '3234.069', '120.475', '108.923', '148.531',\n",
       "       '324.018', '350.423', '517.108', '509.406', '530.31', '260.204',\n",
       "       '274.507', '72.615', '71.515', '3288.035', '17.395', '8.186',\n",
       "       '6.139', '85.951', '143.252', '394.967', '547.429', '421.571',\n",
       "       '475.803', '298.784', '181.112', '445.106', '3025.696', '337.019',\n",
       "       '308.918', '446.692', '373.317', '275.548', '253.887', '456.059',\n",
       "       '382.294', '377.415', '418.591', '354.192', '504.066', '4487.998',\n",
       "       '645.286', '705.904', '350.019', '330.074', '408.095', '447.007',\n",
       "       '379.937', '376.417', '332.42', '411.419', '823.033', '383.652',\n",
       "       '5593.261', '389.25', '431.242', '532.12', '684.695', '635.029',\n",
       "       '669.634', '634.992', '577.206', '490.229', '606.829', '470.448',\n",
       "       '615.657', '6737.331', '811.402', '713.931', '852.102', '1024.417',\n",
       "       '1077.641', '1126.316', '890.455', '976.691', '735.829', '734.355',\n",
       "       '655.947', '755.194', '10354.28', '632.339', '745.375', '1036.104',\n",
       "       '1092.766', '1006.383', '1047.145', '953.396', '815.429',\n",
       "       '895.054', '897.161', '961.433', '1104.881', '11187.466',\n",
       "       '999.445', '1021.569', '1291.224', '1294.857', '1701.651',\n",
       "       '1397.206', '1164.37', '1050.719', '1089.615', '1028.873',\n",
       "       '932.203', '1172.009', '14143.741', '1131.569', '966.482',\n",
       "       '1560.626', '1697.504', '1746.43', '1796.924', '1420.942',\n",
       "       '1138.032', '1468.347', '1446.19', '1609.691', '1827.814',\n",
       "       '17810.549', '2382.633', '1921.958', '2358.632', '2471.762',\n",
       "       '2458.683', '2051.766', '1955.064', '1655.187', '1879.144',\n",
       "       '2442.13', '2540.489', '2471.69', '26589.137', '2452.315',\n",
       "       '2519.793', '3047.092', '3171.703', '2952.341', '2620.416',\n",
       "       '2158.372', '2699.365', '2866.722', '3376.54', '3095.036',\n",
       "       '3490.232', '34449.927', '4273.185', '3851.749', '4782.02',\n",
       "       '5225.282', '5340.284', '5140.376', '4008.401', '3264.406',\n",
       "       '3111.452', '4756.401', '4993.646', '6615.899', '55363.1',\n",
       "       '5950.825', '5852.175', '7099.063', '7457.696', '6261.961',\n",
       "       '5599.422', '4954.941', '5464.474', '4650.708', '6813.626',\n",
       "       '6875.183', '6906.058', '73886.132', '6854.337', '5431.858',\n",
       "       '8589.077', '9764.456', '8697.525', '8049.021', '6723.891',\n",
       "       '6685.855', '7105.502', '7943.808', '9747.619', '9059.297',\n",
       "       '94652.246', '8550.495', '10451.562', '10544.646', '12421.657',\n",
       "       '11772.161', '10985.069', '7488.629', '7473.594', '6869.029',\n",
       "       '10525.429', '12438.553', '10655.775', '120176.599', '13632.395',\n",
       "       '11051.982', '14026.442', '12709.239', '12540.523', '11972.304',\n",
       "       '8821.542', '8468.912', '8789.666', '12635.641', '11648.59',\n",
       "       '14524.467', '140821.703', '14738.504', '14075.591', '15755.653',\n",
       "       '17476.274', '16238.702', '13748.106', '11093.614', '9633.884',\n",
       "       '11674.081', '13635.018', '15803.26', '13967.059', '167839.745',\n",
       "       '17911.214', '14008.66', '17735.883', '18635.549', '15601.367',\n",
       "       '15798.817', '12187.392', '10170.521', '11519.768', '14507.931',\n",
       "       '18866.929', '14711.249', '181655.282', '15162.146', '14921.545',\n",
       "       '15307.929', '17867.149', '17151.341', '13421.266', '13675.449',\n",
       "       '13080.028', '13971.567', '16380.039', '19681.716', '20098.373',\n",
       "       '190718.548', '18466.402', '20138.228', '21939.409', '20799.303',\n",
       "       '18847.899', '16303.441', '17618.357', '13589.326', '16403.64',\n",
       "       '20335.39', '19405.642', '23145.525', '226992.562', '20798.771',\n",
       "       '22091.109', '25730.617', '25377.943', '23067.639', '20141.747',\n",
       "       '16119.996', '13878.848', '17911.775', '24368.703', '22614.867',\n",
       "       '22200.681', '254302.695', '25598.822', '23189.489', '26463.704',\n",
       "       '26430.857', '23953.128', '24702.856', '16446.574', '19846.437',\n",
       "       '18519.671', '21193.898', '22015.734', '24306.284', '272667.454',\n",
       "       '24301.45', '22622.753', '25772.678', '28915.306', '25779.387',\n",
       "       '22445.97', '22100.722', '19978.031', '24513.468', '27624.519',\n",
       "       '25184.359', '26643.84', '295882.484', '28121.411', '29110.495',\n",
       "       '29319.783', '29752.229', '28377.505', '30212.405', '22866.198',\n",
       "       '23029.332', '23185.978', '28822.663', '33129.405', '32010.645',\n",
       "       '337938.049', '30060.471', '26715.501', '39205.248', '36157.807',\n",
       "       '33786.508', '26671.534', '21715.552', '27071.122', '28997.803',\n",
       "       '32215.111', '35751.091', '39849.028', '378196.775', '38083.974',\n",
       "       '37992.489', '43015.752', '45929.799', '41645.058', '33478.679',\n",
       "       '29269.063', '24344.581', '27024.307', '32824.906', '41971.407'],\n",
       "      dtype='<U80')"
      ]
     },
     "execution_count": 49,
     "metadata": {},
     "output_type": "execute_result"
    }
   ],
   "source": [
    "y"
   ]
  },
  {
   "cell_type": "code",
   "execution_count": 50,
   "id": "e1c42d41",
   "metadata": {},
   "outputs": [],
   "source": [
    "x = wind_data[:,1]"
   ]
  },
  {
   "cell_type": "code",
   "execution_count": 51,
   "id": "dd5343fc",
   "metadata": {},
   "outputs": [
    {
     "data": {
      "text/plain": [
       "array(['198301', '198302', '198303', '198304', '198305', '198306',\n",
       "       '198307', '198308', '198309', '198310', '198311', '198312',\n",
       "       '198313', '198401', '198402', '198403', '198404', '198405',\n",
       "       '198406', '198407', '198408', '198409', '198410', '198411',\n",
       "       '198412', '198413', '198501', '198502', '198503', '198504',\n",
       "       '198505', '198506', '198507', '198508', '198509', '198510',\n",
       "       '198511', '198512', '198513', '198601', '198602', '198603',\n",
       "       '198604', '198605', '198606', '198607', '198608', '198609',\n",
       "       '198610', '198611', '198612', '198613', '198701', '198702',\n",
       "       '198703', '198704', '198705', '198706', '198707', '198708',\n",
       "       '198709', '198710', '198711', '198712', '198713', '198801',\n",
       "       '198802', '198803', '198804', '198805', '198806', '198807',\n",
       "       '198808', '198809', '198810', '198811', '198812', '198813',\n",
       "       '198901', '198902', '198903', '198904', '198905', '198906',\n",
       "       '198907', '198908', '198909', '198910', '198911', '198912',\n",
       "       '198913', '199001', '199002', '199003', '199004', '199005',\n",
       "       '199006', '199007', '199008', '199009', '199010', '199011',\n",
       "       '199012', '199013', '199101', '199102', '199103', '199104',\n",
       "       '199105', '199106', '199107', '199108', '199109', '199110',\n",
       "       '199111', '199112', '199113', '199201', '199202', '199203',\n",
       "       '199204', '199205', '199206', '199207', '199208', '199209',\n",
       "       '199210', '199211', '199212', '199213', '199301', '199302',\n",
       "       '199303', '199304', '199305', '199306', '199307', '199308',\n",
       "       '199309', '199310', '199311', '199312', '199313', '199401',\n",
       "       '199402', '199403', '199404', '199405', '199406', '199407',\n",
       "       '199408', '199409', '199410', '199411', '199412', '199413',\n",
       "       '199501', '199502', '199503', '199504', '199505', '199506',\n",
       "       '199507', '199508', '199509', '199510', '199511', '199512',\n",
       "       '199513', '199601', '199602', '199603', '199604', '199605',\n",
       "       '199606', '199607', '199608', '199609', '199610', '199611',\n",
       "       '199612', '199613', '199701', '199702', '199703', '199704',\n",
       "       '199705', '199706', '199707', '199708', '199709', '199710',\n",
       "       '199711', '199712', '199713', '199801', '199802', '199803',\n",
       "       '199804', '199805', '199806', '199807', '199808', '199809',\n",
       "       '199810', '199811', '199812', '199813', '199901', '199902',\n",
       "       '199903', '199904', '199905', '199906', '199907', '199908',\n",
       "       '199909', '199910', '199911', '199912', '199913', '200001',\n",
       "       '200002', '200003', '200004', '200005', '200006', '200007',\n",
       "       '200008', '200009', '200010', '200011', '200012', '200013',\n",
       "       '200101', '200102', '200103', '200104', '200105', '200106',\n",
       "       '200107', '200108', '200109', '200110', '200111', '200112',\n",
       "       '200113', '200201', '200202', '200203', '200204', '200205',\n",
       "       '200206', '200207', '200208', '200209', '200210', '200211',\n",
       "       '200212', '200213', '200301', '200302', '200303', '200304',\n",
       "       '200305', '200306', '200307', '200308', '200309', '200310',\n",
       "       '200311', '200312', '200313', '200401', '200402', '200403',\n",
       "       '200404', '200405', '200406', '200407', '200408', '200409',\n",
       "       '200410', '200411', '200412', '200413', '200501', '200502',\n",
       "       '200503', '200504', '200505', '200506', '200507', '200508',\n",
       "       '200509', '200510', '200511', '200512', '200513', '200601',\n",
       "       '200602', '200603', '200604', '200605', '200606', '200607',\n",
       "       '200608', '200609', '200610', '200611', '200612', '200613',\n",
       "       '200701', '200702', '200703', '200704', '200705', '200706',\n",
       "       '200707', '200708', '200709', '200710', '200711', '200712',\n",
       "       '200713', '200801', '200802', '200803', '200804', '200805',\n",
       "       '200806', '200807', '200808', '200809', '200810', '200811',\n",
       "       '200812', '200813', '200901', '200902', '200903', '200904',\n",
       "       '200905', '200906', '200907', '200908', '200909', '200910',\n",
       "       '200911', '200912', '200913', '201001', '201002', '201003',\n",
       "       '201004', '201005', '201006', '201007', '201008', '201009',\n",
       "       '201010', '201011', '201012', '201013', '201101', '201102',\n",
       "       '201103', '201104', '201105', '201106', '201107', '201108',\n",
       "       '201109', '201110', '201111', '201112', '201113', '201201',\n",
       "       '201202', '201203', '201204', '201205', '201206', '201207',\n",
       "       '201208', '201209', '201210', '201211', '201212', '201213',\n",
       "       '201301', '201302', '201303', '201304', '201305', '201306',\n",
       "       '201307', '201308', '201309', '201310', '201311', '201312',\n",
       "       '201313', '201401', '201402', '201403', '201404', '201405',\n",
       "       '201406', '201407', '201408', '201409', '201410', '201411',\n",
       "       '201412', '201413', '201501', '201502', '201503', '201504',\n",
       "       '201505', '201506', '201507', '201508', '201509', '201510',\n",
       "       '201511', '201512', '201513', '201601', '201602', '201603',\n",
       "       '201604', '201605', '201606', '201607', '201608', '201609',\n",
       "       '201610', '201611', '201612', '201613', '201701', '201702',\n",
       "       '201703', '201704', '201705', '201706', '201707', '201708',\n",
       "       '201709', '201710', '201711', '201712', '201713', '201801',\n",
       "       '201802', '201803', '201804', '201805', '201806', '201807',\n",
       "       '201808', '201809', '201810', '201811', '201812', '201813',\n",
       "       '201901', '201902', '201903', '201904', '201905', '201906',\n",
       "       '201907', '201908', '201909', '201910', '201911', '201912',\n",
       "       '201913', '202001', '202002', '202003', '202004', '202005',\n",
       "       '202006', '202007', '202008', '202009', '202010', '202011',\n",
       "       '202012', '202013', '202101', '202102', '202103', '202104',\n",
       "       '202105', '202106', '202107', '202108', '202109', '202110',\n",
       "       '202111', '202112', '202113', '202201', '202202', '202203',\n",
       "       '202204', '202205', '202206', '202207', '202208', '202209',\n",
       "       '202210', '202211'], dtype='<U80')"
      ]
     },
     "execution_count": 51,
     "metadata": {},
     "output_type": "execute_result"
    }
   ],
   "source": [
    "x"
   ]
  },
  {
   "cell_type": "code",
   "execution_count": 53,
   "id": "51e03186",
   "metadata": {},
   "outputs": [
    {
     "data": {
      "image/png": "[encoded data removed]",
      "text/plain": [
       "<Figure size 432x288 with 1 Axes>"
      ]
     },
     "metadata": {
      "needs_background": "light"
     },
     "output_type": "display_data"
    }
   ],
   "source": [
    "plt.plot(x,y)\n",
    "plt.xlabel(\"Energy Generated\")\n",
    "plt.ylabel(\"Date\")\n",
    "plt.show()"
   ]
  },
  {
   "cell_type": "markdown",
   "id": "b7268d2f",
   "metadata": {},
   "source": [
    "## Annual energy generated"
   ]
  },
  {
   "cell_type": "code",
   "execution_count": 62,
   "id": "7db2539e",
   "metadata": {},
   "outputs": [],
   "source": [
    "all_energy = annual_wind_data[:,2].astype(float)"
   ]
  },
  {
   "cell_type": "code",
   "execution_count": 63,
   "id": "9c667f68",
   "metadata": {},
   "outputs": [
    {
     "data": {
      "text/plain": [
       "75701.91515384616"
      ]
     },
     "execution_count": 63,
     "metadata": {},
     "output_type": "execute_result"
    }
   ],
   "source": [
    "all_energy.mean()"
   ]
  },
  {
   "cell_type": "code",
   "execution_count": 64,
   "id": "afdb44c6",
   "metadata": {},
   "outputs": [
    {
     "data": {
      "text/plain": [
       "109069.92321094654"
      ]
     },
     "execution_count": 64,
     "metadata": {},
     "output_type": "execute_result"
    }
   ],
   "source": [
    "all_energy.std()"
   ]
  },
  {
   "cell_type": "code",
   "execution_count": 65,
   "id": "3a6db980",
   "metadata": {},
   "outputs": [],
   "source": [
    "x = annual_wind_data[:,1]  #year\n",
    "y = annual_wind_data[:,2]  #energy"
   ]
  },
  {
   "cell_type": "code",
   "execution_count": 66,
   "id": "0d38f91f",
   "metadata": {},
   "outputs": [
    {
     "data": {
      "text/plain": [
       "<function matplotlib.pyplot.show(close=None, block=None)>"
      ]
     },
     "execution_count": 66,
     "metadata": {},
     "output_type": "execute_result"
    },
    {
     "data": {
      "image/png": "[encoded data removed]",
      "text/plain": [
       "<Figure size 432x288 with 1 Axes>"
      ]
     },
     "metadata": {
      "needs_background": "light"
     },
     "output_type": "display_data"
    }
   ],
   "source": [
    "plt.plot(x,y)\n",
    "plt.xlabel(\"Year\")\n",
    "plt.ylabel(\"Energy Generated\")\n",
    "plt.show"
   ]
  },
  {
   "cell_type": "markdown",
   "id": "e3e63d56",
   "metadata": {},
   "source": [
    "## Minimum and maximum energy"
   ]
  },
  {
   "cell_type": "code",
   "execution_count": 72,
   "id": "0c2fe990",
   "metadata": {},
   "outputs": [],
   "source": [
    "all_energy = wind_data[:,1].astype(float)"
   ]
  },
  {
   "cell_type": "code",
   "execution_count": 73,
   "id": "440b139a",
   "metadata": {},
   "outputs": [
    {
     "data": {
      "text/plain": [
       "202211.0"
      ]
     },
     "execution_count": 73,
     "metadata": {},
     "output_type": "execute_result"
    }
   ],
   "source": [
    "all_energy.max()"
   ]
  },
  {
   "cell_type": "code",
   "execution_count": 74,
   "id": "83007bf4",
   "metadata": {},
   "outputs": [
    {
     "data": {
      "text/plain": [
       "198301.0"
      ]
     },
     "execution_count": 74,
     "metadata": {},
     "output_type": "execute_result"
    }
   ],
   "source": [
    "all_energy.min()"
   ]
  },
  {
   "cell_type": "code",
   "execution_count": null,
   "id": "fc1e86ba",
   "metadata": {},
   "outputs": [],
   "source": []
  }
 ],
 "metadata": {
  "kernelspec": {
   "display_name": "Python 3 (ipykernel)",
   "language": "python",
   "name": "python3"
  },
  "language_info": {
   "codemirror_mode": {
    "name": "ipython",
    "version": 3
   },
   "file_extension": ".py",
   "mimetype": "text/x-python",
   "name": "python",
   "nbconvert_exporter": "python",
   "pygments_lexer": "ipython3",
   "version": "3.9.12"
  }
 },
 "nbformat": 4,
 "nbformat_minor": 5
}
